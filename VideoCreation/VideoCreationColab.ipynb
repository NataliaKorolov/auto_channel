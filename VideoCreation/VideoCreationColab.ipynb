{
  "cells": [
    {
      "cell_type": "markdown",
      "metadata": {
        "colab_type": "text",
        "id": "view-in-github"
      },
      "source": [
        "<a href=\"https://colab.research.google.com/github/NataliaKorolov/auto_channel/blob/main/VideoCreation/VideoCreationColab.ipynb\" target=\"_parent\"><img src=\"https://colab.research.google.com/assets/colab-badge.svg\" alt=\"Open In Colab\"/></a>"
      ]
    },
    {
      "cell_type": "markdown",
      "id": "3cd22151",
      "metadata": {
        "id": "3cd22151"
      },
      "source": [
        "## 🔧 Step 1: Setup and Installation\n",
        "\n",
        "First, let's install all the required packages for video processing."
      ]
    },
    {
      "cell_type": "code",
      "execution_count": null,
      "id": "37f92682",
      "metadata": {
        "colab": {
          "base_uri": "https://localhost:8080/"
        },
        "id": "37f92682",
        "outputId": "d6a37197-7bd8-4d70-b949-6fbc5aec6805"
      },
      "outputs": [],
      "source": [
        "# Install required packages\n",
        "print(\"📦 Installing packages...\")\n",
        "!pip install moviepy pandas openpyxl pillow imageio opencv-python gtts ffmpeg-python\n",
        "!apt update &> /dev/null\n",
        "!apt install ffmpeg\n",
        "\n",
        "!pip install moviepy==2.2.1\n",
        "\n",
        "#font\n",
        "!apt-get install -y fonts-dejavu\n",
        "\n",
        "# Import basic libraries to test installation\n",
        "import moviepy\n",
        "import pandas as pd\n",
        "import cv2\n",
        "from PIL import Image\n",
        "\n",
        "print(\"✅ All packages installed successfully!\")\n",
        "print(f\"📊 MoviePy version: {moviepy.__version__}\")\n",
        "print(f\"📊 Pandas version: {pd.__version__}\")\n",
        "print(f\"📊 OpenCV version: {cv2.__version__}\")\n",
        "\n",
        "# Configure environment for video processing\n",
        "import os\n",
        "os.environ['IMAGEIO_FFMPEG_EXE'] = '/usr/bin/ffmpeg'\n",
        "print(\"🔧 Environment configured for video processing!\")"
      ]
    },
    {
      "cell_type": "markdown",
      "id": "c7c0a64d",
      "metadata": {
        "id": "c7c0a64d"
      },
      "source": [
        "## 📂 Step 2: Clone Repository and Setup Environment\n",
        "\n",
        "Now let's get the latest video creation code from GitHub."
      ]
    },
    {
      "cell_type": "code",
      "execution_count": null,
      "id": "8f1279ed",
      "metadata": {
        "colab": {
          "base_uri": "https://localhost:8080/"
        },
        "id": "8f1279ed",
        "outputId": "0cfb3413-3d84-4177-90db-93d798963aa4"
      },
      "outputs": [],
      "source": [
        "# Mount Google Drive first\n",
        "from google.colab import drive\n",
        "print(\"💾 Mounting Google Drive...\")\n",
        "drive.mount('/content/drive')\n",
        "print(\"✅ Google Drive mounted successfully!\")\n",
        "\n",
        "# Setup base paths in Google Drive\n",
        "BASE_AUTOMATION_PATH = \"/content/drive/My Drive/Automation\"\n",
        "\n",
        "if not os.path.exists(BASE_AUTOMATION_PATH):\n",
        "    print(\"⚠️  REQUIRED DIRECTORY MISSING!\")\n",
        "    print(\"📁 Please create this folder in your Google Drive:\")\n",
        "    print(f\"   📂 My Drive/Automation\")\n",
        "    print(\"\\n🔧 How to create:\")\n",
        "    print(\"1. Open Google Drive in your browser\")\n",
        "    print(\"2. Go to 'My Drive'\")\n",
        "    print(\"3. Right-click → New Folder → Name it 'Automation'\")\n",
        "    print(\"4. Re-run this cell after creating the folder\")\n",
        "    print(\"\\n❌ Cannot proceed without this directory.\")\n",
        "else:\n",
        "    print(\"✅ Base automation directory found!\")\n",
        "\n",
        "\n",
        "REPO_PATH = \"/content/drive/My Drive/Automation/auto_channel\"\n",
        "\n",
        "# Create automation directory if it doesn't exist\n",
        "os.makedirs(BASE_AUTOMATION_PATH, exist_ok=True)\n",
        "\n",
        "# Repository configuration\n",
        "GITHUB_USERNAME = \"NataliaKorolov\"\n",
        "REPO_NAME = \"auto_channel\"\n",
        "REPO_URL = f\"https://github.com/{GITHUB_USERNAME}/{REPO_NAME}.git\"\n",
        "\n",
        "# Remove existing repository if it exists and clone fresh copy\n",
        "if os.path.exists(REPO_PATH):\n",
        "    print(f\"🗑️ Removing existing repository...\")\n",
        "    !rm -rf \"{REPO_PATH}\"\n",
        "\n",
        "# Clone the repository to Google Drive\n",
        "print(f\"🔄 Cloning repository to Google Drive: {REPO_URL}\")\n",
        "!git clone \"{REPO_URL}\" \"{REPO_PATH}\"\n",
        "\n",
        "# Add VideoCreation folder to Python path\n",
        "video_creation_path = os.path.join(REPO_PATH, \"VideoCreation\")\n",
        "\n",
        "import sys\n",
        "if video_creation_path not in sys.path:\n",
        "    sys.path.append(video_creation_path)\n",
        "\n",
        "print(f\"✅ Repository cloned to Google Drive!\")\n",
        "print(f\"📁 Repository location: {REPO_PATH}\")\n",
        "print(f\"🐍 Python path updated: {video_creation_path}\")\n",
        "\n",
        "# Setup working directories in Google Drive\n",
        "BASE_DIRECTORY_GREECE = os.path.join(BASE_AUTOMATION_PATH, \"Greece_Automation\")\n",
        "if not os.path.exists(BASE_DIRECTORY_GREECE):\n",
        "    print(\"⚠️  BASE_DIRECTORY_GREECE MISSING!\")\n",
        "    print(\"📁 Please create: My Drive/Automation/Greece_Automation\")\n",
        "\n",
        "\n",
        "TT_DIRECTORY = os.path.join(BASE_AUTOMATION_PATH, \"TT\")\n",
        "if not os.path.exists(TT_DIRECTORY):\n",
        "    print(\"⚠️  TT DIRECTORY MISSING!\")\n",
        "    print(\"📁 Please create: My Drive/Automation/TT\")\n"
      ]
    },
    {
      "cell_type": "code",
      "execution_count": null,
      "id": "sVvwUSibRyFo",
      "metadata": {
        "id": "sVvwUSibRyFo"
      },
      "outputs": [],
      "source": [
        "# Import your custom modules\n",
        "import video_common"
      ]
    },
    {
      "cell_type": "markdown",
      "id": "IJk9Dotsmmjy",
      "metadata": {
        "id": "IJk9Dotsmmjy"
      },
      "source": [
        "🎨 Workflow 1: TimelessTales Video Creation of Head and Tail"
      ]
    },
    {
      "cell_type": "code",
      "execution_count": null,
      "id": "jYpam0eUQqmd",
      "metadata": {
        "id": "jYpam0eUQqmd"
      },
      "outputs": [],
      "source": [
        "from video_common import add_voice_to_video\n",
        "\n",
        "# Intro\n",
        "video_path = os.path.join(TT_DIRECTORY, \"assets/intro/TT_INTRO.mp4\")\n",
        "voice_path = os.path.join(TT_DIRECTORY, \"assets/intro/Welcome_RU_TT.mp3\")\n",
        "output_path = os.path.join(TT_DIRECTORY, \"assets/intro/TT_INTRO_FINAL.mp4\")\n",
        "\n",
        "add_voice_to_video(video_path=video_path, voice_path=voice_path, output_path=output_path)\n",
        "\n",
        "# Tail\n",
        "video_path = os.path.join(TT_DIRECTORY, \"assets/tail/TT_TAIL.mp4\")\n",
        "voice_path = os.path.join(TT_DIRECTORY, \"assets/tail/Tail_RU_TT.mp3\")\n",
        "output_path = os.path.join(TT_DIRECTORY, \"assets/tail/TT_TAIL_FINAL.mp4\")\n",
        "\n",
        "add_voice_to_video(video_path=video_path, voice_path=voice_path, output_path=output_path)\n"
      ]
    },
    {
      "cell_type": "markdown",
      "id": "9661126e",
      "metadata": {
        "id": "9661126e"
      },
      "source": [
        "## 🎨 Workflow 1: TimelessTales Video Creation\n",
        "\n"
      ]
    },
    {
      "cell_type": "code",
      "execution_count": null,
      "id": "m4y_yalmgxW2",
      "metadata": {
        "colab": {
          "base_uri": "https://localhost:8080/",
          "height": 315
        },
        "id": "m4y_yalmgxW2",
        "outputId": "26a7bd4d-0fad-4618-ea64-305fc5284b5b"
      },
      "outputs": [],
      "source": [
        "import TimelessTales\n",
        "\n",
        "from TimelessTales import process_video_entries\n",
        "\n",
        "# Point to your Excel tracker (adjust filename if needed)\n",
        "csv_path = os.path.join(TT_DIRECTORY, \"TimelessTales_Video_Tracker.xlsx\")\n",
        "\n",
        "# Run the video generation process WITH temporary directory optimization\n",
        "created_videos = process_video_entries(csv_path, use_temp_dir=True)  # New parameter\n",
        "\n",
        "# Output the results\n",
        "print(f\"\\n✅ Total videos created: {len(created_videos)}\")\n",
        "for path in created_videos:\n",
        "    print(f\"🎬 {path}\")\n"
      ]
    },
    {
      "cell_type": "markdown",
      "id": "fbad54ec",
      "metadata": {
        "id": "fbad54ec"
      },
      "source": [
        "## 🎬 Workflow 2: Greece\n"
      ]
    },
    {
      "cell_type": "code",
      "execution_count": null,
      "id": "WITg1qt3P7UP",
      "metadata": {
        "id": "WITg1qt3P7UP"
      },
      "outputs": [],
      "source": [
        "\n",
        "import os\n",
        "\n",
        "import social_video_youtube_full_size\n",
        "\n",
        "from social_video_youtube_full_size import create_complete_video_for_greece\n",
        "\n",
        "# Import configuration system\n",
        "from config import get_colab_config\n",
        "\n",
        "# Initialize Colab configuration with current project directory\n",
        "# Replace \"3_Hector\" with your current Greece project directory\n",
        "CURRENT_PROJECT_DIR = \"3_Hector\"\n",
        "config = get_colab_config(current_project_dir=CURRENT_PROJECT_DIR, base_path=BASE_AUTOMATION_PATH)\n",
        "\n",
        "# Create all required directories\n",
        "config.create_all_directories()\n",
        "\n",
        "# Check directories before running workflow\n",
        "if config.validate_directories():\n",
        "    build_all = True \n",
        "    \n",
        "    print(f\"🎬 Starting Greece workflow for project: {CURRENT_PROJECT_DIR}\")\n",
        "    print(\"=\" * 60)\n",
        "    \n",
        "    # Create all four video variants using the centralized config\n",
        "    create_complete_video_for_greece(language=\"EN\", orientation=\"horizontal\", video_config=config, cleanup_intermediate=False, build_all=build_all) \n",
        "    create_complete_video_for_greece(language=\"RU\", orientation=\"horizontal\", video_config=config, cleanup_intermediate=False, build_all=build_all) \n",
        "    create_complete_video_for_greece(language=\"EN\", orientation=\"vertical\", video_config=config, cleanup_intermediate=False, build_all=build_all) \n",
        "    create_complete_video_for_greece(language=\"RU\", orientation=\"vertical\", video_config=config, cleanup_intermediate=False, build_all=build_all) \n",
        "    \n",
        "    print(\"🎉 All Greece videos completed!\")\n",
        "else:\n",
        "    print(\"⏸️  Greece workflow stopped due to missing directories.\")\n",
        "\n",
        "# Example: Switch to different project during execution\n",
        "# config.change_current_project_directory(\"4_Athena\")\n",
        "# create_complete_video_for_greece(language=\"EN\", orientation=\"horizontal\", video_config=config, cleanup_intermediate=False, build_all=True)\n",
        "\n",
        "# Or selectively create only specific variants:\n",
        "# create_complete_video_for_greece(language=\"EN\", orientation=\"horizontal\", video_config=config, cleanup_intermediate=False, build_all=True)\n",
        "\n"
      ]
    },
    {
      "cell_type": "code",
      "execution_count": null,
      "id": "1a957ebc",
      "metadata": {},
      "outputs": [],
      "source": [
        "# 🔄 Batch Processing: Multiple Greece Projects\n",
        "\n",
        "import os\n",
        "from social_video_youtube_full_size import create_complete_video_for_greece\n",
        "from config import get_colab_config\n",
        "\n",
        "# Define list of current Greece project directories\n",
        "GREECE_PROJECT_DIRECTORIES = [\n",
        "    \"3_Hector\",\n",
        "    \"4_Odysseus\", \n",
        "    # Add more project directories as needed\n",
        "    # \"6_Aphrodite\",\n",
        "    # \"7_Apollo\",\n",
        "]\n",
        "\n",
        "# Configuration for batch processing\n",
        "build_all = True\n",
        "cleanup_intermediate = False  # Set to True to save space after each project\n",
        "\n",
        "# Languages and orientations to create for each project\n",
        "LANGUAGES = [\"EN\", \"RU\"]\n",
        "ORIENTATIONS = [\"horizontal\", \"vertical\"]\n",
        "\n",
        "print(f\"🚀 Starting batch processing for {len(GREECE_PROJECT_DIRECTORIES)} Greece projects\")\n",
        "print(\"=\" * 70)\n",
        "\n",
        "successful_projects = []\n",
        "failed_projects = []\n",
        "\n",
        "for project_dir in GREECE_PROJECT_DIRECTORIES:\n",
        "    print(f\"\\n🎯 Processing project: {project_dir}\")\n",
        "    print(\"-\" * 50)\n",
        "    \n",
        "    try:\n",
        "        # Initialize configuration for current project\n",
        "        config = get_colab_config(current_project_dir=project_dir, base_path=BASE_AUTOMATION_PATH)\n",
        "        \n",
        "        # Create all required directories for this project\n",
        "        config.create_all_directories()\n",
        "        \n",
        "        # Validate directories before processing\n",
        "        if not config.validate_directories():\n",
        "            print(f\"❌ {project_dir}: Missing required directories - skipping\")\n",
        "            failed_projects.append(f\"{project_dir} (missing directories)\")\n",
        "            continue\n",
        "        \n",
        "        # Track videos created for this project\n",
        "        project_videos = []\n",
        "        project_failed = []\n",
        "        \n",
        "        # Create all language/orientation combinations\n",
        "        for language in LANGUAGES:\n",
        "            for orientation in ORIENTATIONS:\n",
        "                try:\n",
        "                    print(f\"\\n  🎬 Creating {language} {orientation} video for {project_dir}...\")\n",
        "                    \n",
        "                    result = create_complete_video_for_greece(\n",
        "                        language=language, \n",
        "                        orientation=orientation, \n",
        "                        video_config=config, \n",
        "                        cleanup_intermediate=cleanup_intermediate, \n",
        "                        build_all=build_all\n",
        "                    )\n",
        "                    \n",
        "                    if result:\n",
        "                        project_videos.append(f\"{language}_{orientation}\")\n",
        "                        print(f\"    ✅ {language} {orientation} completed\")\n",
        "                    else:\n",
        "                        project_failed.append(f\"{language}_{orientation}\")\n",
        "                        print(f\"    ❌ {language} {orientation} failed\")\n",
        "                        \n",
        "                except Exception as e:\n",
        "                    project_failed.append(f\"{language}_{orientation}\")\n",
        "                    print(f\"    ❌ {language} {orientation} failed: {str(e)[:100]}...\")\n",
        "        \n",
        "        # Project summary\n",
        "        if project_videos and not project_failed:\n",
        "            successful_projects.append(f\"{project_dir} (all 4 videos)\")\n",
        "            print(f\"\\n🎉 {project_dir}: ALL VIDEOS COMPLETED ({len(project_videos)}/4)\")\n",
        "        elif project_videos:\n",
        "            successful_projects.append(f\"{project_dir} (partial: {len(project_videos)}/4)\")\n",
        "            print(f\"\\n⚠️ {project_dir}: PARTIAL SUCCESS ({len(project_videos)}/4)\")\n",
        "            print(f\"    ✅ Completed: {', '.join(project_videos)}\")\n",
        "            print(f\"    ❌ Failed: {', '.join(project_failed)}\")\n",
        "        else:\n",
        "            failed_projects.append(f\"{project_dir} (all failed)\")\n",
        "            print(f\"\\n❌ {project_dir}: ALL VIDEOS FAILED\")\n",
        "            \n",
        "    except Exception as e:\n",
        "        failed_projects.append(f\"{project_dir} (config error)\")\n",
        "        print(f\"\\n❌ {project_dir}: Configuration failed - {str(e)[:100]}...\")\n",
        "\n",
        "# Final batch summary\n",
        "print(\"\\n\" + \"=\" * 70)\n",
        "print(\"🏁 BATCH PROCESSING COMPLETED\")\n",
        "print(\"=\" * 70)\n",
        "\n",
        "print(f\"\\n📊 SUMMARY:\")\n",
        "print(f\"   📁 Total projects processed: {len(GREECE_PROJECT_DIRECTORIES)}\")\n",
        "print(f\"   ✅ Successful projects: {len(successful_projects)}\")\n",
        "print(f\"   ❌ Failed projects: {len(failed_projects)}\")\n",
        "\n",
        "if successful_projects:\n",
        "    print(f\"\\n✅ SUCCESSFUL PROJECTS:\")\n",
        "    for project in successful_projects:\n",
        "        print(f\"   🎬 {project}\")\n",
        "\n",
        "if failed_projects:\n",
        "    print(f\"\\n❌ FAILED PROJECTS:\")\n",
        "    for project in failed_projects:\n",
        "        print(f\"   ⚠️ {project}\")\n",
        "\n",
        "print(f\"\\n🎯 Expected total videos: {len(GREECE_PROJECT_DIRECTORIES) * 4}\")\n",
        "successful_count = sum(1 for p in successful_projects if \"(all 4 videos)\" in p) * 4\n",
        "partial_count = sum(int(p.split(\"(partial: \")[1].split(\"/\")[0]) for p in successful_projects if \"(partial:\" in p)\n",
        "total_successful = successful_count + partial_count\n",
        "print(f\"🎉 Actual videos created: {total_successful}\")\n",
        "\n",
        "print(\"\\n🔄 To process additional projects, add them to GREECE_PROJECT_DIRECTORIES list and re-run this cell\")"
      ]
    },
    {
      "cell_type": "markdown",
      "id": "21fd4eeb",
      "metadata": {
        "id": "21fd4eeb"
      },
      "source": [
        "## � Step 3: Organize Your Files in Google Drive\n",
        "\n",
        "Your files should be organized in the Google Drive folders that were just created. No need to upload - just place your files directly in these folders!"
      ]
    }
  ],
  "metadata": {
    "colab": {
      "include_colab_link": true,
      "provenance": []
    },
    "kernelspec": {
      "display_name": "Python 3",
      "name": "python3"
    },
    "language_info": {
      "name": "python"
    }
  },
  "nbformat": 4,
  "nbformat_minor": 5
}
