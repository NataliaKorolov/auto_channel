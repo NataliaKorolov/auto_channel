{
  "cells": [
    {
      "cell_type": "markdown",
      "metadata": {
        "colab_type": "text",
        "id": "view-in-github"
      },
      "source": [
        "<a href=\"https://colab.research.google.com/github/NataliaKorolov/auto_channel/blob/main/VideoCreation/VideoCreationColab.ipynb\" target=\"_parent\"><img src=\"https://colab.research.google.com/assets/colab-badge.svg\" alt=\"Open In Colab\"/></a>"
      ]
    },
    {
      "cell_type": "markdown",
      "id": "3cd22151",
      "metadata": {
        "id": "3cd22151"
      },
      "source": [
        "## 🔧 Step 1: Setup and Installation\n",
        "\n",
        "First, let's install all the required packages for video processing."
      ]
    },
    {
      "cell_type": "code",
      "execution_count": null,
      "id": "37f92682",
      "metadata": {
        "colab": {
          "base_uri": "https://localhost:8080/"
        },
        "id": "37f92682",
        "outputId": "d6a37197-7bd8-4d70-b949-6fbc5aec6805"
      },
      "outputs": [],
      "source": [
        "# Install required packages\n",
        "print(\"📦 Installing packages...\")\n",
        "!pip install moviepy pandas openpyxl pillow imageio opencv-python gtts ffmpeg-python\n",
        "!apt update &> /dev/null\n",
        "!apt install ffmpeg\n",
        "\n",
        "!pip install moviepy==2.2.1\n",
        "\n",
        "#font\n",
        "!apt-get install -y fonts-dejavu\n",
        "\n",
        "# Import basic libraries to test installation\n",
        "import moviepy\n",
        "import pandas as pd\n",
        "import cv2\n",
        "from PIL import Image\n",
        "\n",
        "print(\"✅ All packages installed successfully!\")\n",
        "print(f\"📊 MoviePy version: {moviepy.__version__}\")\n",
        "print(f\"📊 Pandas version: {pd.__version__}\")\n",
        "print(f\"📊 OpenCV version: {cv2.__version__}\")\n",
        "\n",
        "# Configure environment for video processing\n",
        "import os\n",
        "os.environ['IMAGEIO_FFMPEG_EXE'] = '/usr/bin/ffmpeg'\n",
        "print(\"🔧 Environment configured for video processing!\")"
      ]
    },
    {
      "cell_type": "markdown",
      "id": "c7c0a64d",
      "metadata": {
        "id": "c7c0a64d"
      },
      "source": [
        "## 📂 Step 2: Clone Repository and Setup Environment\n",
        "\n",
        "Now let's get the latest video creation code from GitHub."
      ]
    },
    {
      "cell_type": "code",
      "execution_count": null,
      "id": "8f1279ed",
      "metadata": {
        "colab": {
          "base_uri": "https://localhost:8080/"
        },
        "id": "8f1279ed",
        "outputId": "0cfb3413-3d84-4177-90db-93d798963aa4"
      },
      "outputs": [],
      "source": [
        "# Mount Google Drive first\n",
        "from google.colab import drive\n",
        "print(\"💾 Mounting Google Drive...\")\n",
        "drive.mount('/content/drive')\n",
        "print(\"✅ Google Drive mounted successfully!\")\n",
        "\n",
        "# Setup base paths in Google Drive\n",
        "BASE_AUTOMATION_PATH = \"/content/drive/My Drive/Automation\"\n",
        "\n",
        "if not os.path.exists(BASE_AUTOMATION_PATH):\n",
        "    print(\"⚠️  REQUIRED DIRECTORY MISSING!\")\n",
        "    print(\"📁 Please create this folder in your Google Drive:\")\n",
        "    print(f\"   📂 My Drive/Automation\")\n",
        "    print(\"\\n🔧 How to create:\")\n",
        "    print(\"1. Open Google Drive in your browser\")\n",
        "    print(\"2. Go to 'My Drive'\")\n",
        "    print(\"3. Right-click → New Folder → Name it 'Automation'\")\n",
        "    print(\"4. Re-run this cell after creating the folder\")\n",
        "    print(\"\\n❌ Cannot proceed without this directory.\")\n",
        "else:\n",
        "    print(\"✅ Base automation directory found!\")\n",
        "\n",
        "\n",
        "REPO_PATH = \"/content/drive/My Drive/Automation/auto_channel\"\n",
        "\n",
        "# Create automation directory if it doesn't exist\n",
        "os.makedirs(BASE_AUTOMATION_PATH, exist_ok=True)\n",
        "\n",
        "# Repository configuration\n",
        "GITHUB_USERNAME = \"NataliaKorolov\"\n",
        "REPO_NAME = \"auto_channel\"\n",
        "REPO_URL = f\"https://github.com/{GITHUB_USERNAME}/{REPO_NAME}.git\"\n",
        "\n",
        "# Remove existing repository if it exists and clone fresh copy\n",
        "if os.path.exists(REPO_PATH):\n",
        "    print(f\"🗑️ Removing existing repository...\")\n",
        "    !rm -rf \"{REPO_PATH}\"\n",
        "\n",
        "# Clone the repository to Google Drive\n",
        "print(f\"🔄 Cloning repository to Google Drive: {REPO_URL}\")\n",
        "!git clone \"{REPO_URL}\" \"{REPO_PATH}\"\n",
        "\n",
        "# Add VideoCreation folder to Python path\n",
        "video_creation_path = os.path.join(REPO_PATH, \"VideoCreation\")\n",
        "\n",
        "import sys\n",
        "if video_creation_path not in sys.path:\n",
        "    sys.path.append(video_creation_path)\n",
        "\n",
        "print(f\"✅ Repository cloned to Google Drive!\")\n",
        "print(f\"📁 Repository location: {REPO_PATH}\")\n",
        "print(f\"🐍 Python path updated: {video_creation_path}\")\n",
        "\n",
        "# Setup working directories in Google Drive\n",
        "BASE_DIRECTORY_GREECE = os.path.join(BASE_AUTOMATION_PATH, \"Greece_Automation\")\n",
        "if not os.path.exists(BASE_DIRECTORY_GREECE):\n",
        "    print(\"⚠️  BASE_DIRECTORY_GREECE MISSING!\")\n",
        "    print(\"📁 Please create: My Drive/Automation/Greece_Automation\")\n",
        "\n",
        "\n",
        "TT_DIRECTORY = os.path.join(BASE_AUTOMATION_PATH, \"TT\")\n",
        "if not os.path.exists(TT_DIRECTORY):\n",
        "    print(\"⚠️  TT DIRECTORY MISSING!\")\n",
        "    print(\"📁 Please create: My Drive/Automation/TT\")\n"
      ]
    },
    {
      "cell_type": "code",
      "execution_count": null,
      "id": "sVvwUSibRyFo",
      "metadata": {
        "id": "sVvwUSibRyFo"
      },
      "outputs": [],
      "source": [
        "# Import your custom modules\n",
        "import video_common"
      ]
    },
    {
      "cell_type": "markdown",
      "id": "IJk9Dotsmmjy",
      "metadata": {
        "id": "IJk9Dotsmmjy"
      },
      "source": [
        "🎨 Workflow 1: TimelessTales Video Creation of Head and Tail"
      ]
    },
    {
      "cell_type": "code",
      "execution_count": null,
      "id": "jYpam0eUQqmd",
      "metadata": {
        "id": "jYpam0eUQqmd"
      },
      "outputs": [],
      "source": [
        "from video_common import add_voice_to_video\n",
        "\n",
        "# Intro\n",
        "video_path = os.path.join(TT_DIRECTORY, \"assets/intro/TT_INTRO.mp4\")\n",
        "voice_path = os.path.join(TT_DIRECTORY, \"assets/intro/Welcome_RU_TT.mp3\")\n",
        "output_path = os.path.join(TT_DIRECTORY, \"assets/intro/TT_INTRO_FINAL.mp4\")\n",
        "\n",
        "add_voice_to_video(video_path=video_path, voice_path=voice_path, output_path=output_path)\n",
        "\n",
        "# Tail\n",
        "video_path = os.path.join(TT_DIRECTORY, \"assets/tail/TT_TAIL.mp4\")\n",
        "voice_path = os.path.join(TT_DIRECTORY, \"assets/tail/Tail_RU_TT.mp3\")\n",
        "output_path = os.path.join(TT_DIRECTORY, \"assets/tail/TT_TAIL_FINAL.mp4\")\n",
        "\n",
        "add_voice_to_video(video_path=video_path, voice_path=voice_path, output_path=output_path)\n"
      ]
    },
    {
      "cell_type": "markdown",
      "id": "9661126e",
      "metadata": {
        "id": "9661126e"
      },
      "source": [
        "## 🎨 Workflow 1: TimelessTales Video Creation\n",
        "\n"
      ]
    },
    {
      "cell_type": "code",
      "execution_count": null,
      "id": "m4y_yalmgxW2",
      "metadata": {
        "colab": {
          "base_uri": "https://localhost:8080/",
          "height": 315
        },
        "id": "m4y_yalmgxW2",
        "outputId": "26a7bd4d-0fad-4618-ea64-305fc5284b5b"
      },
      "outputs": [],
      "source": [
        "import TimelessTales\n",
        "\n",
        "from TimelessTales import process_video_entries\n",
        "\n",
        "# Point to your Excel tracker (adjust filename if needed)\n",
        "csv_path = os.path.join(TT_DIRECTORY, \"TimelessTales_Video_Tracker.xlsx\")\n",
        "\n",
        "# Run the video generation process WITH temporary directory optimization\n",
        "created_videos = process_video_entries(csv_path, use_temp_dir=True)  # New parameter\n",
        "\n",
        "# Output the results\n",
        "print(f\"\\n✅ Total videos created: {len(created_videos)}\")\n",
        "for path in created_videos:\n",
        "    print(f\"🎬 {path}\")\n"
      ]
    },
    {
      "cell_type": "markdown",
      "id": "fbad54ec",
      "metadata": {
        "id": "fbad54ec"
      },
      "source": [
        "## 🎬 Workflow 2: Greece\n"
      ]
    },
    {
      "cell_type": "code",
      "execution_count": null,
      "id": "WITg1qt3P7UP",
      "metadata": {
        "id": "WITg1qt3P7UP"
      },
      "outputs": [],
      "source": [
        "\n",
        "\n",
        "import os\n",
        "\n",
        "import social_video_youtube_full_size\n",
        "\n",
        "from social_video_youtube_full_size import create_complete_video_for_greece, check_greece_workflow_directories\n",
        "\n",
        "# === CONFIGURATION ===\n",
        "\n",
        "\n",
        "BASE_DIRECTORY_GREECE_CURRENT = os.path.join(BASE_DIRECTORY_GREECE, \"3_Hector\") # Change \"3_Hector\" to your current workflow folder name\n",
        "\n",
        "BASE_DIRECTORY_GREECE_COMMON_ARTIFACTS = os.path.join(BASE_DIRECTORY_GREECE, \"Common_Artifacts\")\n",
        "\n",
        "INTRO_BASE_DIRECTORY_GREECE_COMMON_ARTIFACTS = os.path.join(BASE_DIRECTORY_GREECE_COMMON_ARTIFACTS, \"Intro\")\n",
        "\n",
        "INTRO_AUDIO_OUTPUT_FILE_EN = os.path.join(INTRO_BASE_DIRECTORY_GREECE_COMMON_ARTIFACTS, \"Intro_Audio_Output_EN.mp3\")\n",
        "INTRO_AUDIO_OUTPUT_FILE_RU = os.path.join(INTRO_BASE_DIRECTORY_GREECE_COMMON_ARTIFACTS, \"Intro_Audio_Output_RU.mp3\")\n",
        "\n",
        "INTRO_MUSIC_OVERLAY_PATH = os.path.join(INTRO_BASE_DIRECTORY_GREECE_COMMON_ARTIFACTS, \"Intro_Music.mp3\")\n",
        "INTRO_TEXT_AUDIO_OVERLAY_PATH_EN = os.path.join(INTRO_BASE_DIRECTORY_GREECE_COMMON_ARTIFACTS, \"Welcome_EN_TG.mp3\")\n",
        "INTRO_TEXT_AUDIO_OVERLAY_PATH_RU = os.path.join(INTRO_BASE_DIRECTORY_GREECE_COMMON_ARTIFACTS, \"Welcome_RU_TG.mp3\")\n",
        "INTRO_TEXT_OVERLAY_CSV_PATH = os.path.join(INTRO_BASE_DIRECTORY_GREECE_COMMON_ARTIFACTS, \"Intro_Text_Overlay_EN_RU.csv\")\n",
        "INTRO_VIDEO_PATHS = [os.path.join(INTRO_BASE_DIRECTORY_GREECE_COMMON_ARTIFACTS, f\"Intro_{i}.mp4\") for i in range(1, 2)]\n",
        "\n",
        "INTRO_VIDEO_EN_HORIZONTAL = os.path.join(INTRO_BASE_DIRECTORY_GREECE_COMMON_ARTIFACTS, \"Intro_Output_horizontal_1920x1080_EN.mp4\")\n",
        "INTRO_VIDEO_RU_HORIZONTAL = os.path.join(INTRO_BASE_DIRECTORY_GREECE_COMMON_ARTIFACTS, \"Intro_Output_horizontal_1920x1080_RU.mp4\")\n",
        "INTRO_VIDEO_EN_VERTICAL = os.path.join(INTRO_BASE_DIRECTORY_GREECE_COMMON_ARTIFACTS, \"Intro_Output_vertical_1080x1920_EN.mp4\")\n",
        "INTRO_VIDEO_RU_VERTICAL= os.path.join(INTRO_BASE_DIRECTORY_GREECE_COMMON_ARTIFACTS, \"Intro_Output_vertical_1080x1920_RU.mp4\")\n",
        "\n",
        "TAIL_BASE_DIRECTORY_GREECE_COMMON_ARTIFACTS = os.path.join(BASE_DIRECTORY_GREECE_COMMON_ARTIFACTS, \"Tail\")\n",
        "\n",
        "TAIL_AUDIO_OUTPUT_FILE_EN = os.path.join(TAIL_BASE_DIRECTORY_GREECE_COMMON_ARTIFACTS, \"Tail_Audio_Output_EN.mp3\")\n",
        "TAIL_AUDIO_OUTPUT_FILE_RU = os.path.join(TAIL_BASE_DIRECTORY_GREECE_COMMON_ARTIFACTS, \"Tail_Audio_Output_RU.mp3\")\n",
        "TAIL_MUSIC_OVERLAY_PATH = os.path.join(TAIL_BASE_DIRECTORY_GREECE_COMMON_ARTIFACTS, \"Tail_Music.mp3\")\n",
        "TAIL_TEXT_AUDIO_OVERLAY_PATH_EN = os.path.join(TAIL_BASE_DIRECTORY_GREECE_COMMON_ARTIFACTS, \"Tail_EN_TG.mp3\")\n",
        "TAIL_TEXT_AUDIO_OVERLAY_PATH_RU = os.path.join(TAIL_BASE_DIRECTORY_GREECE_COMMON_ARTIFACTS, \"Tail_RU_TG.mp3\")\n",
        "TAIL_TEXT_OVERLAY_CSV_PATH = os.path.join(TAIL_BASE_DIRECTORY_GREECE_COMMON_ARTIFACTS, \"Tail_Text_Overlay_EN_RU.csv\")\n",
        "TAIL_VIDEO_PATHS = [os.path.join(TAIL_BASE_DIRECTORY_GREECE_COMMON_ARTIFACTS, f\"Tail_{i}.mp4\") for i in range(1, 3)]\n",
        "\n",
        "BASE_DIRECTORY_GREECE_CURRENT_ARTIFACTS = os.path.join(BASE_DIRECTORY_GREECE_CURRENT, \"Artifacts\")\n",
        "VIDEO_PATHS = [os.path.join(BASE_DIRECTORY_GREECE_CURRENT_ARTIFACTS, f\"Prompt {i}.mp4\") for i in range(1, 11)]\n",
        "AUDIO_PATH_RU = os.path.join(BASE_DIRECTORY_GREECE_CURRENT_ARTIFACTS, \"Voice_Over_RU.mp3\")\n",
        "AUDIO_PATH_EN = os.path.join(BASE_DIRECTORY_GREECE_CURRENT_ARTIFACTS, \"Voice_Over_EN.mp3\")\n",
        "CSV_PATH = os.path.join(BASE_DIRECTORY_GREECE_CURRENT_ARTIFACTS, \"Video_Texts.csv\")\n",
        "\n",
        "BASE_DIRECTORY_GREECE_CURRENT_RESULT = os.path.join(BASE_DIRECTORY_GREECE_CURRENT, \"Result_Automation\")\n",
        "\n",
        "AUDIO_PATH_WITH_TAIL_RU = os.path.join(BASE_DIRECTORY_GREECE_CURRENT_RESULT, \"Voice_Over_RU_With_Tail.mp3\")\n",
        "AUDIO_PATH_WITH_TAIL_EN = os.path.join(BASE_DIRECTORY_GREECE_CURRENT_RESULT, \"Voice_Over_EN_With_Tail.mp3\")\n",
        "VIDEO_EN_HORIZONTAL_MAIN_PLUS_TAIL = os.path.join(BASE_DIRECTORY_GREECE_CURRENT_RESULT, \"main_plus_tail_horizontal_1920x1080_EN.mp4\")\n",
        "VIDEO_RU_HORIZONTAL_MAIN_PLUS_TAIL = os.path.join(BASE_DIRECTORY_GREECE_CURRENT_RESULT, \"main_plus_tail_horizontal_1920x1080_RU.mp4\")\n",
        "VIDEO_EN_VERTICAL_MAIN_PLUS_TAIL = os.path.join(BASE_DIRECTORY_GREECE_CURRENT_RESULT, \"main_plus_tail_vertical_1080x1920_EN.mp4\")\n",
        "VIDEO_RU_VERTICAL_MAIN_PLUS_TAIL = os.path.join(BASE_DIRECTORY_GREECE_CURRENT_RESULT, \"main_plus_tail_vertical_1080x1920_RU.mp4\")\n",
        "\n",
        "BASE_DIRECTORY_GREECE_CURRENT_FINAL = os.path.join(BASE_DIRECTORY_GREECE_CURRENT, \"Final\")\n",
        "\n",
        "FINAL_VIDEO_EN_HORIZONTAL = os.path.join(BASE_DIRECTORY_GREECE_CURRENT_FINAL, \"final_horizontal_1920x1080_EN.mp4\")\n",
        "FINAL_VIDEO_RU_HORIZONTAL = os.path.join(BASE_DIRECTORY_GREECE_CURRENT_FINAL, \"final_horizontal_1920x1080_RU.mp4\")\n",
        "FINAL_VIDEO_EN_VERTICAL = os.path.join(BASE_DIRECTORY_GREECE_CURRENT_FINAL, \"final_vertical_1080x1920_EN.mp4\")\n",
        "FINAL_VIDEO_RU_VERTICAL = os.path.join(BASE_DIRECTORY_GREECE_CURRENT_FINAL, \"final_vertical_1080x1920_RU.mp4\")\n",
        "\n",
        "\n",
        "# FONT_PATH = os.path.join(BASE_DIRECTORY_GREECE_CURRENT, \"Cinzel-Regular.ttf\")  # Update if needed\n",
        "\n",
        "DEFAULT_FONT = \"DejaVuSans\"  # Safe fallback font\n",
        "\n",
        "\n",
        "\n",
        "\n",
        "# Check directories before running workflow\n",
        "if check_greece_workflow_directories():\n",
        "    build_all = True \n",
        "    # Create all four video variants\n",
        "    create_complete_video_for_greece(language=\"EN\", orientation=\"horizontal\", cleanup_intermediate=False, build_all=build_all) \n",
        "    create_complete_video_for_greece(language=\"RU\", orientation=\"horizontal\", cleanup_intermediate=False, build_all=build_all) \n",
        "    create_complete_video_for_greece(language=\"EN\", orientation=\"vertical\", cleanup_intermediate=False, build_all=build_all) \n",
        "    create_complete_video_for_greece(language=\"RU\", orientation=\"vertical\", cleanup_intermediate=False, build_all=build_all) \n",
        "\n",
        "else:\n",
        "    print(\"⏸️  Greece workflow stopped due to missing directories.\")\n",
        "\n",
        "# Or selectively create only specific variants:\n",
        "# create_complete_video(language=\"EN\", orientation=\"horizontal\")\n",
        "\n"
      ]
    },
    {
      "cell_type": "markdown",
      "id": "21fd4eeb",
      "metadata": {
        "id": "21fd4eeb"
      },
      "source": [
        "## \udcc1 Step 3: Organize Your Files in Google Drive\n",
        "\n",
        "Your files should be organized in the Google Drive folders that were just created. No need to upload - just place your files directly in these folders!"
      ]
    }
  ],
  "metadata": {
    "colab": {
      "include_colab_link": true,
      "provenance": []
    },
    "kernelspec": {
      "display_name": "Python 3",
      "name": "python3"
    },
    "language_info": {
      "name": "python"
    }
  },
  "nbformat": 4,
  "nbformat_minor": 5
}
