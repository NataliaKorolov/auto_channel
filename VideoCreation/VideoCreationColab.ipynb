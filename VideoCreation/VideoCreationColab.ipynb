{
  "cells": [
    {
      "cell_type": "markdown",
      "metadata": {
        "colab_type": "text",
        "id": "view-in-github"
      },
      "source": [
        "<a href=\"https://colab.research.google.com/github/NataliaKorolov/auto_channel/blob/main/VideoCreation/VideoCreationColab.ipynb\" target=\"_parent\"><img src=\"https://colab.research.google.com/assets/colab-badge.svg\" alt=\"Open In Colab\"/></a>"
      ]
    },
    {
      "cell_type": "markdown",
      "id": "3cd22151",
      "metadata": {
        "id": "3cd22151"
      },
      "source": [
        "## 🔧 Step 1: Setup and Installation\n",
        "\n",
        "First, let's install all the required packages for video processing."
      ]
    },
    {
      "cell_type": "code",
      "execution_count": 1,
      "id": "37f92682",
      "metadata": {
        "colab": {
          "base_uri": "https://localhost:8080/"
        },
        "id": "37f92682",
        "outputId": "d6a37197-7bd8-4d70-b949-6fbc5aec6805"
      },
      "outputs": [
        {
          "name": "stdout",
          "output_type": "stream",
          "text": [
            "📦 Installing packages...\n",
            "Requirement already satisfied: moviepy in /usr/local/lib/python3.11/dist-packages (1.0.3)\n",
            "Requirement already satisfied: pandas in /usr/local/lib/python3.11/dist-packages (2.2.2)\n",
            "Requirement already satisfied: openpyxl in /usr/local/lib/python3.11/dist-packages (3.1.5)\n",
            "Requirement already satisfied: pillow in /usr/local/lib/python3.11/dist-packages (11.3.0)\n",
            "Requirement already satisfied: imageio in /usr/local/lib/python3.11/dist-packages (2.37.0)\n",
            "Requirement already satisfied: opencv-python in /usr/local/lib/python3.11/dist-packages (4.12.0.88)\n",
            "Collecting gtts\n",
            "  Downloading gTTS-2.5.4-py3-none-any.whl.metadata (4.1 kB)\n",
            "Collecting ffmpeg-python\n",
            "  Downloading ffmpeg_python-0.2.0-py3-none-any.whl.metadata (1.7 kB)\n",
            "Requirement already satisfied: decorator<5.0,>=4.0.2 in /usr/local/lib/python3.11/dist-packages (from moviepy) (4.4.2)\n",
            "Requirement already satisfied: tqdm<5.0,>=4.11.2 in /usr/local/lib/python3.11/dist-packages (from moviepy) (4.67.1)\n",
            "Requirement already satisfied: requests<3.0,>=2.8.1 in /usr/local/lib/python3.11/dist-packages (from moviepy) (2.32.3)\n",
            "Requirement already satisfied: proglog<=1.0.0 in /usr/local/lib/python3.11/dist-packages (from moviepy) (0.1.12)\n",
            "Requirement already satisfied: numpy>=1.17.3 in /usr/local/lib/python3.11/dist-packages (from moviepy) (2.0.2)\n",
            "Requirement already satisfied: imageio-ffmpeg>=0.2.0 in /usr/local/lib/python3.11/dist-packages (from moviepy) (0.6.0)\n",
            "Requirement already satisfied: python-dateutil>=2.8.2 in /usr/local/lib/python3.11/dist-packages (from pandas) (2.9.0.post0)\n",
            "Requirement already satisfied: pytz>=2020.1 in /usr/local/lib/python3.11/dist-packages (from pandas) (2025.2)\n",
            "Requirement already satisfied: tzdata>=2022.7 in /usr/local/lib/python3.11/dist-packages (from pandas) (2025.2)\n",
            "Requirement already satisfied: et-xmlfile in /usr/local/lib/python3.11/dist-packages (from openpyxl) (2.0.0)\n",
            "Collecting click<8.2,>=7.1 (from gtts)\n",
            "  Downloading click-8.1.8-py3-none-any.whl.metadata (2.3 kB)\n",
            "Requirement already satisfied: future in /usr/local/lib/python3.11/dist-packages (from ffmpeg-python) (1.0.0)\n",
            "Requirement already satisfied: six>=1.5 in /usr/local/lib/python3.11/dist-packages (from python-dateutil>=2.8.2->pandas) (1.17.0)\n",
            "Requirement already satisfied: charset-normalizer<4,>=2 in /usr/local/lib/python3.11/dist-packages (from requests<3.0,>=2.8.1->moviepy) (3.4.2)\n",
            "Requirement already satisfied: idna<4,>=2.5 in /usr/local/lib/python3.11/dist-packages (from requests<3.0,>=2.8.1->moviepy) (3.10)\n",
            "Requirement already satisfied: urllib3<3,>=1.21.1 in /usr/local/lib/python3.11/dist-packages (from requests<3.0,>=2.8.1->moviepy) (2.5.0)\n",
            "Requirement already satisfied: certifi>=2017.4.17 in /usr/local/lib/python3.11/dist-packages (from requests<3.0,>=2.8.1->moviepy) (2025.7.14)\n",
            "Downloading gTTS-2.5.4-py3-none-any.whl (29 kB)\n",
            "Downloading ffmpeg_python-0.2.0-py3-none-any.whl (25 kB)\n",
            "Downloading click-8.1.8-py3-none-any.whl (98 kB)\n",
            "\u001b[2K   \u001b[90m━━━━━━━━━━━━━━━━━━━━━━━━━━━━━━━━━━━━━━━━\u001b[0m \u001b[32m98.2/98.2 kB\u001b[0m \u001b[31m8.0 MB/s\u001b[0m eta \u001b[36m0:00:00\u001b[0m\n",
            "\u001b[?25hInstalling collected packages: ffmpeg-python, click, gtts\n",
            "  Attempting uninstall: click\n",
            "    Found existing installation: click 8.2.1\n",
            "    Uninstalling click-8.2.1:\n",
            "      Successfully uninstalled click-8.2.1\n",
            "Successfully installed click-8.1.8 ffmpeg-python-0.2.0 gtts-2.5.4\n",
            "Reading package lists... Done\n",
            "Building dependency tree... Done\n",
            "Reading state information... Done\n",
            "ffmpeg is already the newest version (7:4.4.2-0ubuntu0.22.04.1).\n",
            "0 upgraded, 0 newly installed, 0 to remove and 42 not upgraded.\n",
            "Collecting moviepy==2.2.1\n",
            "  Downloading moviepy-2.2.1-py3-none-any.whl.metadata (6.9 kB)\n",
            "Requirement already satisfied: decorator<6.0,>=4.0.2 in /usr/local/lib/python3.11/dist-packages (from moviepy==2.2.1) (4.4.2)\n",
            "Requirement already satisfied: imageio<3.0,>=2.5 in /usr/local/lib/python3.11/dist-packages (from moviepy==2.2.1) (2.37.0)\n",
            "Requirement already satisfied: imageio_ffmpeg>=0.2.0 in /usr/local/lib/python3.11/dist-packages (from moviepy==2.2.1) (0.6.0)\n",
            "Requirement already satisfied: numpy>=1.25.0 in /usr/local/lib/python3.11/dist-packages (from moviepy==2.2.1) (2.0.2)\n",
            "Requirement already satisfied: proglog<=1.0.0 in /usr/local/lib/python3.11/dist-packages (from moviepy==2.2.1) (0.1.12)\n",
            "Collecting python-dotenv>=0.10 (from moviepy==2.2.1)\n",
            "  Downloading python_dotenv-1.1.1-py3-none-any.whl.metadata (24 kB)\n",
            "Requirement already satisfied: pillow<12.0,>=9.2.0 in /usr/local/lib/python3.11/dist-packages (from moviepy==2.2.1) (11.3.0)\n",
            "Requirement already satisfied: tqdm in /usr/local/lib/python3.11/dist-packages (from proglog<=1.0.0->moviepy==2.2.1) (4.67.1)\n",
            "Downloading moviepy-2.2.1-py3-none-any.whl (129 kB)\n",
            "\u001b[2K   \u001b[90m━━━━━━━━━━━━━━━━━━━━━━━━━━━━━━━━━━━━━━━━\u001b[0m \u001b[32m129.9/129.9 kB\u001b[0m \u001b[31m10.7 MB/s\u001b[0m eta \u001b[36m0:00:00\u001b[0m\n",
            "\u001b[?25hDownloading python_dotenv-1.1.1-py3-none-any.whl (20 kB)\n",
            "Installing collected packages: python-dotenv, moviepy\n",
            "  Attempting uninstall: moviepy\n",
            "    Found existing installation: moviepy 1.0.3\n",
            "    Uninstalling moviepy-1.0.3:\n",
            "      Successfully uninstalled moviepy-1.0.3\n",
            "Successfully installed moviepy-2.2.1 python-dotenv-1.1.1\n",
            "Reading package lists... Done\n",
            "Building dependency tree... Done\n",
            "Reading state information... Done\n",
            "The following additional packages will be installed:\n",
            "  fonts-dejavu-core fonts-dejavu-extra\n",
            "The following NEW packages will be installed:\n",
            "  fonts-dejavu fonts-dejavu-core fonts-dejavu-extra\n",
            "0 upgraded, 3 newly installed, 0 to remove and 42 not upgraded.\n",
            "Need to get 3,085 kB of archives.\n",
            "After this operation, 10.7 MB of additional disk space will be used.\n",
            "Get:1 http://archive.ubuntu.com/ubuntu jammy/main amd64 fonts-dejavu-core all 2.37-2build1 [1,041 kB]\n",
            "Get:2 http://archive.ubuntu.com/ubuntu jammy/main amd64 fonts-dejavu-extra all 2.37-2build1 [2,041 kB]\n",
            "Get:3 http://archive.ubuntu.com/ubuntu jammy/universe amd64 fonts-dejavu all 2.37-2build1 [3,192 B]\n",
            "Fetched 3,085 kB in 2s (1,340 kB/s)\n",
            "Selecting previously unselected package fonts-dejavu-core.\n",
            "(Reading database ... 126284 files and directories currently installed.)\n",
            "Preparing to unpack .../fonts-dejavu-core_2.37-2build1_all.deb ...\n",
            "Unpacking fonts-dejavu-core (2.37-2build1) ...\n",
            "Selecting previously unselected package fonts-dejavu-extra.\n",
            "Preparing to unpack .../fonts-dejavu-extra_2.37-2build1_all.deb ...\n",
            "Unpacking fonts-dejavu-extra (2.37-2build1) ...\n",
            "Selecting previously unselected package fonts-dejavu.\n",
            "Preparing to unpack .../fonts-dejavu_2.37-2build1_all.deb ...\n",
            "Unpacking fonts-dejavu (2.37-2build1) ...\n",
            "Setting up fonts-dejavu-core (2.37-2build1) ...\n",
            "Setting up fonts-dejavu-extra (2.37-2build1) ...\n",
            "Setting up fonts-dejavu (2.37-2build1) ...\n",
            "Processing triggers for fontconfig (2.13.1-4.2ubuntu5) ...\n",
            "✅ All packages installed successfully!\n",
            "📊 MoviePy version: 2.1.2\n",
            "📊 Pandas version: 2.2.2\n",
            "📊 OpenCV version: 4.12.0\n",
            "🔧 Environment configured for video processing!\n"
          ]
        }
      ],
      "source": [
        "# Install required packages\n",
        "print(\"📦 Installing packages...\")\n",
        "!pip install moviepy pandas openpyxl pillow imageio opencv-python gtts ffmpeg-python\n",
        "!apt update &> /dev/null\n",
        "!apt install ffmpeg\n",
        "\n",
        "!pip install moviepy==2.2.1\n",
        "\n",
        "#font\n",
        "!apt-get install -y fonts-dejavu\n",
        "\n",
        "# Import basic libraries to test installation\n",
        "import moviepy\n",
        "import pandas as pd\n",
        "import cv2\n",
        "from PIL import Image\n",
        "\n",
        "print(\"✅ All packages installed successfully!\")\n",
        "print(f\"📊 MoviePy version: {moviepy.__version__}\")\n",
        "print(f\"📊 Pandas version: {pd.__version__}\")\n",
        "print(f\"📊 OpenCV version: {cv2.__version__}\")\n",
        "\n",
        "# Configure environment for video processing\n",
        "import os\n",
        "os.environ['IMAGEIO_FFMPEG_EXE'] = '/usr/bin/ffmpeg'\n",
        "print(\"🔧 Environment configured for video processing!\")"
      ]
    },
    {
      "cell_type": "markdown",
      "id": "c7c0a64d",
      "metadata": {
        "id": "c7c0a64d"
      },
      "source": [
        "## 📂 Step 2: Clone Repository and Setup Environment\n",
        "\n",
        "Now let's get the latest video creation code from GitHub."
      ]
    },
    {
      "cell_type": "code",
      "execution_count": 3,
      "id": "8f1279ed",
      "metadata": {
        "colab": {
          "base_uri": "https://localhost:8080/"
        },
        "id": "8f1279ed",
        "outputId": "0cfb3413-3d84-4177-90db-93d798963aa4"
      },
      "outputs": [
        {
          "name": "stdout",
          "output_type": "stream",
          "text": [
            "💾 Mounting Google Drive...\n",
            "Mounted at /content/drive\n",
            "✅ Google Drive mounted successfully!\n",
            "✅ Base automation directory found!\n",
            "🗑️ Removing existing repository...\n",
            "🔄 Cloning repository to Google Drive: https://github.com/NataliaKorolov/auto_channel.git\n",
            "Cloning into '/content/drive/My Drive/Automation/auto_channel'...\n",
            "remote: Enumerating objects: 112, done.\u001b[K\n",
            "remote: Counting objects: 100% (112/112), done.\u001b[K\n",
            "remote: Compressing objects: 100% (75/75), done.\u001b[K\n",
            "remote: Total 112 (delta 56), reused 86 (delta 36), pack-reused 0 (from 0)\u001b[K\n",
            "Receiving objects: 100% (112/112), 71.80 KiB | 3.59 MiB/s, done.\n",
            "Resolving deltas: 100% (56/56), done.\n",
            "✅ Repository cloned to Google Drive!\n",
            "📁 Repository location: /content/drive/My Drive/Automation/auto_channel\n",
            "🐍 Python path updated: /content/drive/My Drive/Automation/auto_channel/VideoCreation\n",
            "📁 Working directories confirmed:\n",
            "   🎨 TimelessTales: /content/drive/My Drive/Automation/TT\n",
            "   🌍 Social Videos: /content/drive/My Drive/Automation/Greece_Automation\n",
            "\n",
            "💡 Place your files directly in these Google Drive folders!\n"
          ]
        }
      ],
      "source": [
        "# Mount Google Drive first\n",
        "from google.colab import drive\n",
        "print(\"💾 Mounting Google Drive...\")\n",
        "drive.mount('/content/drive')\n",
        "print(\"✅ Google Drive mounted successfully!\")\n",
        "\n",
        "# Setup base paths in Google Drive\n",
        "BASE_AUTOMATION_PATH = \"/content/drive/My Drive/Automation\"\n",
        "\n",
        "if not os.path.exists(BASE_AUTOMATION_PATH):\n",
        "    print(\"⚠️  REQUIRED DIRECTORY MISSING!\")\n",
        "    print(\"📁 Please create this folder in your Google Drive:\")\n",
        "    print(f\"   📂 My Drive/Automation\")\n",
        "    print(\"\\n🔧 How to create:\")\n",
        "    print(\"1. Open Google Drive in your browser\")\n",
        "    print(\"2. Go to 'My Drive'\")\n",
        "    print(\"3. Right-click → New Folder → Name it 'Automation'\")\n",
        "    print(\"4. Re-run this cell after creating the folder\")\n",
        "    print(\"\\n❌ Cannot proceed without this directory.\")\n",
        "else:\n",
        "    print(\"✅ Base automation directory found!\")\n",
        "\n",
        "\n",
        "REPO_PATH = \"/content/drive/My Drive/Automation/auto_channel\"\n",
        "\n",
        "# Create automation directory if it doesn't exist\n",
        "os.makedirs(BASE_AUTOMATION_PATH, exist_ok=True)\n",
        "\n",
        "# Repository configuration\n",
        "GITHUB_USERNAME = \"NataliaKorolov\"\n",
        "REPO_NAME = \"auto_channel\"\n",
        "REPO_URL = f\"https://github.com/{GITHUB_USERNAME}/{REPO_NAME}.git\"\n",
        "\n",
        "# Remove existing repository if it exists and clone fresh copy\n",
        "if os.path.exists(REPO_PATH):\n",
        "    print(f\"🗑️ Removing existing repository...\")\n",
        "    !rm -rf \"{REPO_PATH}\"\n",
        "\n",
        "# Clone the repository to Google Drive\n",
        "print(f\"🔄 Cloning repository to Google Drive: {REPO_URL}\")\n",
        "!git clone \"{REPO_URL}\" \"{REPO_PATH}\"\n",
        "\n",
        "# Add VideoCreation folder to Python path\n",
        "video_creation_path = os.path.join(REPO_PATH, \"VideoCreation\")\n",
        "\n",
        "import sys\n",
        "if video_creation_path not in sys.path:\n",
        "    sys.path.append(video_creation_path)\n",
        "\n",
        "print(f\"✅ Repository cloned to Google Drive!\")\n",
        "print(f\"📁 Repository location: {REPO_PATH}\")\n",
        "print(f\"🐍 Python path updated: {video_creation_path}\")\n",
        "\n",
        "# Setup working directories in Google Drive\n",
        "SOCIAL_DIRECTORY = os.path.join(BASE_AUTOMATION_PATH, \"Greece_Automation\")\n",
        "if not os.path.exists(SOCIAL_DIRECTORY):\n",
        "    print(\"⚠️  SOCIAL DIRECTORY MISSING!\")\n",
        "    print(\"📁 Please create: My Drive/Automation/Greece_Automation\")\n",
        "\n",
        "\n",
        "TT_DIRECTORY = os.path.join(BASE_AUTOMATION_PATH, \"TT\")\n",
        "if not os.path.exists(TT_DIRECTORY):\n",
        "    print(\"⚠️  TT DIRECTORY MISSING!\")\n",
        "    print(\"📁 Please create: My Drive/Automation/TT\")\n",
        "\n",
        "#Only show success message if both exist\n",
        "if os.path.exists(TT_DIRECTORY) and os.path.exists(SOCIAL_DIRECTORY):\n",
        "    print(f\"📁 Working directories confirmed:\")\n",
        "    print(f\"   🎨 TimelessTales: {TT_DIRECTORY}\")\n",
        "    print(f\"   🌍 Social Videos: {SOCIAL_DIRECTORY}\")\n",
        "    print(f\"\\n💡 Place your files directly in these Google Drive folders!\")\n",
        "else:\n",
        "    print(\"\\n🔄 Please create the missing folders above and re-run this cell.\")"
      ]
    },
    {
      "cell_type": "code",
      "execution_count": 9,
      "id": "sVvwUSibRyFo",
      "metadata": {
        "id": "sVvwUSibRyFo"
      },
      "outputs": [],
      "source": [
        "# Import your custom modules\n",
        "import video_common"
      ]
    },
    {
      "cell_type": "markdown",
      "id": "IJk9Dotsmmjy",
      "metadata": {
        "id": "IJk9Dotsmmjy"
      },
      "source": [
        "🎨 Workflow 1: TimelessTales Video Creation of Head and Tail"
      ]
    },
    {
      "cell_type": "code",
      "execution_count": null,
      "id": "jYpam0eUQqmd",
      "metadata": {
        "id": "jYpam0eUQqmd"
      },
      "outputs": [],
      "source": [
        "from video_common import add_voice_to_video\n",
        "\n",
        "# Intro\n",
        "video_path = os.path.join(TT_DIRECTORY, \"assets/intro/TT_INTRO.mp4\")\n",
        "voice_path = os.path.join(TT_DIRECTORY, \"assets/intro/Welcome_RU_TT.mp3\")\n",
        "output_path = os.path.join(TT_DIRECTORY, \"assets/intro/TT_INTRO_FINAL.mp4\")\n",
        "\n",
        "add_voice_to_video(video_path=video_path, voice_path=voice_path, output_path=output_path)\n",
        "\n",
        "# Tail\n",
        "video_path = os.path.join(TT_DIRECTORY, \"assets/tail/TT_TAIL.mp4\")\n",
        "voice_path = os.path.join(TT_DIRECTORY, \"assets/tail/Tail_RU_TT.mp3\")\n",
        "output_path = os.path.join(TT_DIRECTORY, \"assets/tail/TT_TAIL_FINAL.mp4\")\n",
        "\n",
        "add_voice_to_video(video_path=video_path, voice_path=voice_path, output_path=output_path)\n"
      ]
    },
    {
      "cell_type": "markdown",
      "id": "9661126e",
      "metadata": {
        "id": "9661126e"
      },
      "source": [
        "## 🎨 Workflow 1: TimelessTales Video Creation\n",
        "\n"
      ]
    },
    {
      "cell_type": "code",
      "execution_count": 10,
      "id": "m4y_yalmgxW2",
      "metadata": {
        "colab": {
          "base_uri": "https://localhost:8080/",
          "height": 315
        },
        "id": "m4y_yalmgxW2",
        "outputId": "26a7bd4d-0fad-4618-ea64-305fc5284b5b"
      },
      "outputs": [
        {
          "ename": "IndentationError",
          "evalue": "expected an indented block after 'if' statement on line 313 (TimelessTales.py, line 327)",
          "output_type": "error",
          "traceback": [
            "Traceback \u001b[0;36m(most recent call last)\u001b[0m:\n",
            "  File \u001b[1;32m\"/usr/local/lib/python3.11/dist-packages/IPython/core/interactiveshell.py\"\u001b[0m, line \u001b[1;32m3553\u001b[0m, in \u001b[1;35mrun_code\u001b[0m\n    exec(code_obj, self.user_global_ns, self.user_ns)\n",
            "\u001b[0;36m  File \u001b[0;32m\"/tmp/ipython-input-10-929446059.py\"\u001b[0;36m, line \u001b[0;32m1\u001b[0;36m, in \u001b[0;35m<cell line: 0>\u001b[0;36m\u001b[0m\n\u001b[0;31m    import TimelessTales\u001b[0m\n",
            "\u001b[0;36m  File \u001b[0;32m\"/content/drive/My Drive/Automation/auto_channel/VideoCreation/TimelessTales.py\"\u001b[0;36m, line \u001b[0;32m327\u001b[0m\n\u001b[0;31m    # add_voice_to_video(video_path=video_path, voice_path=voice_path, output_path=output_path)\u001b[0m\n\u001b[0m                                                                                               ^\u001b[0m\n\u001b[0;31mIndentationError\u001b[0m\u001b[0;31m:\u001b[0m expected an indented block after 'if' statement on line 313\n"
          ]
        }
      ],
      "source": [
        "import TimelessTales\n",
        "\n",
        "from TimelessTales import process_video_entries\n",
        "\n",
        "# Point to your Excel tracker (adjust filename if needed)\n",
        "csv_path = os.path.join(TT_DIRECTORY, \"TimelessTales_Video_Tracker.xlsx\")\n",
        "\n",
        "# Run the video generation process\n",
        "created_videos = process_video_entries(csv_path)\n",
        "\n",
        "# Output the results\n",
        "print(f\"\\n✅ Total videos created: {len(created_videos)}\")\n",
        "for path in created_videos:\n",
        "    print(f\"🎬 {path}\")\n"
      ]
    },
    {
      "cell_type": "markdown",
      "id": "fbad54ec",
      "metadata": {
        "id": "fbad54ec"
      },
      "source": [
        "## 🎬 Workflow 2: Greece\n"
      ]
    },
    {
      "cell_type": "code",
      "execution_count": null,
      "id": "WITg1qt3P7UP",
      "metadata": {
        "id": "WITg1qt3P7UP"
      },
      "outputs": [],
      "source": [
        "\n",
        "\n",
        "import os\n",
        "from video_common import create_complete_video_for_greece, check_greece_workflow_directories\n",
        "\n",
        "# === CONFIGURATION ===\n",
        "BASE_DIRECTORY_GREECE = os.path.join(BASE_AUTOMATION_PATH, \"Greece_Automation\")\n",
        "\n",
        "BASE_DIRECTORY_GREECE_CURRENT = os.path.join(BASE_DIRECTORY_GREECE, \"3_Hector\") # Change \"3_Hector\" to your current workflow folder name\n",
        "\n",
        "BASE_DIRECTORY_GREECE_COMMON_ARTIFACTS = os.path.join(BASE_DIRECTORY_GREECE, \"Common_Artifacts\")\n",
        "\n",
        "INTRO_BASE_DIRECTORY_GREECE_COMMON_ARTIFACTS = os.path.join(BASE_DIRECTORY_GREECE_COMMON_ARTIFACTS, \"Intro\")\n",
        "\n",
        "INTRO_AUDIO_OUTPUT_FILE_EN = os.path.join(INTRO_BASE_DIRECTORY_GREECE_COMMON_ARTIFACTS, \"Intro_Audio_Output_EN.mp3\")\n",
        "INTRO_AUDIO_OUTPUT_FILE_RU = os.path.join(INTRO_BASE_DIRECTORY_GREECE_COMMON_ARTIFACTS, \"Intro_Audio_Output_RU.mp3\")\n",
        "\n",
        "INTRO_MUSIC_OVERLAY_PATH = os.path.join(INTRO_BASE_DIRECTORY_GREECE_COMMON_ARTIFACTS, \"Intro_Music.mp3\")\n",
        "INTRO_TEXT_AUDIO_OVERLAY_PATH_EN = os.path.join(INTRO_BASE_DIRECTORY_GREECE_COMMON_ARTIFACTS, \"Welcome_EN_TG.mp3\")\n",
        "INTRO_TEXT_AUDIO_OVERLAY_PATH_RU = os.path.join(INTRO_BASE_DIRECTORY_GREECE_COMMON_ARTIFACTS, \"Welcome_RU_TG.mp3\")\n",
        "INTRO_TEXT_OVERLAY_CSV_PATH = os.path.join(INTRO_BASE_DIRECTORY_GREECE_COMMON_ARTIFACTS, \"Intro_Text_Overlay_EN_RU.csv\")\n",
        "INTRO_VIDEO_PATHS = [os.path.join(INTRO_BASE_DIRECTORY_GREECE_COMMON_ARTIFACTS, f\"Intro_{i}.mp4\") for i in range(1, 2)]\n",
        "\n",
        "INTRO_VIDEO_EN_HORIZONTAL = os.path.join(INTRO_BASE_DIRECTORY_GREECE_COMMON_ARTIFACTS, \"Intro_Output_horizontal_1920x1080_EN.mp4\")\n",
        "INTRO_VIDEO_RU_HORIZONTAL = os.path.join(INTRO_BASE_DIRECTORY_GREECE_COMMON_ARTIFACTS, \"Intro_Output_horizontal_1920x1080_RU.mp4\")\n",
        "INTRO_VIDEO_EN_VERTICAL = os.path.join(INTRO_BASE_DIRECTORY_GREECE_COMMON_ARTIFACTS, \"Intro_Output_vertical_1080x1920_EN.mp4\")\n",
        "INTRO_VIDEO_RU_VERTICAL= os.path.join(INTRO_BASE_DIRECTORY_GREECE_COMMON_ARTIFACTS, \"Intro_Output_vertical_1080x1920_RU.mp4\")\n",
        "\n",
        "TAIL_BASE_DIRECTORY_GREECE_COMMON_ARTIFACTS = os.path.join(BASE_DIRECTORY_GREECE_COMMON_ARTIFACTS, \"Tail\")\n",
        "\n",
        "TAIL_AUDIO_OUTPUT_FILE_EN = os.path.join(TAIL_BASE_DIRECTORY_GREECE_COMMON_ARTIFACTS, \"Tail_Audio_Output_EN.mp3\")\n",
        "TAIL_AUDIO_OUTPUT_FILE_RU = os.path.join(TAIL_BASE_DIRECTORY_GREECE_COMMON_ARTIFACTS, \"Tail_Audio_Output_RU.mp3\")\n",
        "TAIL_MUSIC_OVERLAY_PATH = os.path.join(TAIL_BASE_DIRECTORY_GREECE_COMMON_ARTIFACTS, \"Tail_Music.mp3\")\n",
        "TAIL_TEXT_AUDIO_OVERLAY_PATH_EN = os.path.join(TAIL_BASE_DIRECTORY_GREECE_COMMON_ARTIFACTS, \"Tail_EN_TG.mp3\")\n",
        "TAIL_TEXT_AUDIO_OVERLAY_PATH_RU = os.path.join(TAIL_BASE_DIRECTORY_GREECE_COMMON_ARTIFACTS, \"Tail_RU_TG.mp3\")\n",
        "TAIL_TEXT_OVERLAY_CSV_PATH = os.path.join(TAIL_BASE_DIRECTORY_GREECE_COMMON_ARTIFACTS, \"Tail_Text_Overlay_EN_RU.csv\")\n",
        "TAIL_VIDEO_PATHS = [os.path.join(TAIL_BASE_DIRECTORY_GREECE_COMMON_ARTIFACTS, f\"Tail_{i}.mp4\") for i in range(1, 3)]\n",
        "\n",
        "BASE_DIRECTORY_GREECE_CURRENT_ARTIFACTS = os.path.join(BASE_DIRECTORY_GREECE_CURRENT, \"Artifacts\")\n",
        "VIDEO_PATHS = [os.path.join(BASE_DIRECTORY_GREECE_CURRENT_ARTIFACTS, f\"Prompt {i}.mp4\") for i in range(1, 11)]\n",
        "AUDIO_PATH_RU = os.path.join(BASE_DIRECTORY_GREECE_CURRENT_ARTIFACTS, \"Voice_Over_RU.mp3\")\n",
        "AUDIO_PATH_EN = os.path.join(BASE_DIRECTORY_GREECE_CURRENT_ARTIFACTS, \"Voice_Over_EN.mp3\")\n",
        "CSV_PATH = os.path.join(BASE_DIRECTORY_GREECE_CURRENT_ARTIFACTS, \"Video_Texts.csv\")\n",
        "\n",
        "BASE_DIRECTORY_GREECE_CURRENT_RESULT = os.path.join(BASE_DIRECTORY_GREECE_CURRENT, \"Result_Automation\")\n",
        "\n",
        "AUDIO_PATH_WITH_TAIL_RU = os.path.join(BASE_DIRECTORY_GREECE_CURRENT_RESULT, \"Voice_Over_RU_With_Tail.mp3\")\n",
        "AUDIO_PATH_WITH_TAIL_EN = os.path.join(BASE_DIRECTORY_GREECE_CURRENT_RESULT, \"Voice_Over_EN_With_Tail.mp3\")\n",
        "VIDEO_EN_HORIZONTAL_MAIN_PLUS_TAIL = os.path.join(BASE_DIRECTORY_GREECE_CURRENT_RESULT, \"main_plus_tail_horizontal_1920x1080_EN.mp4\")\n",
        "VIDEO_RU_HORIZONTAL_MAIN_PLUS_TAIL = os.path.join(BASE_DIRECTORY_GREECE_CURRENT_RESULT, \"main_plus_tail_horizontal_1920x1080_RU.mp4\")\n",
        "VIDEO_EN_VERTICAL_MAIN_PLUS_TAIL = os.path.join(BASE_DIRECTORY_GREECE_CURRENT_RESULT, \"main_plus_tail_vertical_1080x1920_EN.mp4\")\n",
        "VIDEO_RU_VERTICAL_MAIN_PLUS_TAIL = os.path.join(BASE_DIRECTORY_GREECE_CURRENT_RESULT, \"main_plus_tail_vertical_1080x1920_RU.mp4\")\n",
        "\n",
        "BASE_DIRECTORY_GREECE_CURRENT_FINAL = os.path.join(BASE_DIRECTORY_GREECE_CURRENT, \"Final\")\n",
        "\n",
        "FINAL_VIDEO_EN_HORIZONTAL = os.path.join(BASE_DIRECTORY_GREECE_CURRENT_FINAL, \"final_horizontal_1920x1080_EN.mp4\")\n",
        "FINAL_VIDEO_RU_HORIZONTAL = os.path.join(BASE_DIRECTORY_GREECE_CURRENT_FINAL, \"final_horizontal_1920x1080_RU.mp4\")\n",
        "FINAL_VIDEO_EN_VERTICAL = os.path.join(BASE_DIRECTORY_GREECE_CURRENT_FINAL, \"final_vertical_1080x1920_EN.mp4\")\n",
        "FINAL_VIDEO_RU_VERTICAL = os.path.join(BASE_DIRECTORY_GREECE_CURRENT_FINAL, \"final_vertical_1080x1920_RU.mp4\")\n",
        "\n",
        "\n",
        "# FONT_PATH = os.path.join(BASE_DIRECTORY_GREECE_CURRENT, \"Cinzel-Regular.ttf\")  # Update if needed\n",
        "\n",
        "DEFAULT_FONT = \"DejaVuSans\"  # Safe fallback font\n",
        "\n",
        "\n",
        "\n",
        "\n",
        "# Check directories before running workflow\n",
        "if check_greece_workflow_directories():\n",
        "    build_all = True \n",
        "    # Create all four video variants\n",
        "    create_complete_video_for_greece(language=\"EN\", orientation=\"horizontal\", cleanup_intermediate=False, build_all=build_all) \n",
        "    create_complete_video_for_greece(language=\"RU\", orientation=\"horizontal\", cleanup_intermediate=False, build_all=build_all) \n",
        "    create_complete_video_for_greece(language=\"EN\", orientation=\"vertical\", cleanup_intermediate=False, build_all=build_all) \n",
        "    create_complete_video_for_greece(language=\"RU\", orientation=\"vertical\", cleanup_intermediate=False, build_all=build_all) \n",
        "\n",
        "else:\n",
        "    print(\"⏸️  Greece workflow stopped due to missing directories.\")\n",
        "\n",
        "# Or selectively create only specific variants:\n",
        "# create_complete_video(language=\"EN\", orientation=\"horizontal\")\n",
        "\n"
      ]
    },
    {
      "cell_type": "markdown",
      "id": "21fd4eeb",
      "metadata": {
        "id": "21fd4eeb"
      },
      "source": [
        "## \udcc1 Step 3: Organize Your Files in Google Drive\n",
        "\n",
        "Your files should be organized in the Google Drive folders that were just created. No need to upload - just place your files directly in these folders!"
      ]
    },
    {
      "cell_type": "code",
      "execution_count": null,
      "id": "9b8b69c2",
      "metadata": {
        "id": "9b8b69c2"
      },
      "outputs": [],
      "source": [
        "# Add at the top of cell #VSC-ff3395a9:\n",
        "from typing import List\n",
        "import os\n",
        "\n",
        "# Google Drive file management utilities\n",
        "def list_drive_files(directory: str, file_types: List[str] = None):\n",
        "    \"\"\"List files in a Google Drive directory.\"\"\"\n",
        "    if not os.path.exists(directory):\n",
        "        print(f\"❌ Directory not found: {directory}\")\n",
        "        print(f\"\udca1 Create the folder in Google Drive: {directory}\")\n",
        "        return []\n",
        "\n",
        "    files_list = []\n",
        "    print(f\"📂 Files in {os.path.basename(directory)}:\")\n",
        "\n",
        "    for item in os.listdir(directory):\n",
        "        item_path = os.path.join(directory, item)\n",
        "        if os.path.isfile(item_path):\n",
        "            # Filter by file types if specified\n",
        "            if file_types:\n",
        "                file_ext = os.path.splitext(item.lower())[1]\n",
        "                if not any(item.lower().endswith(ext.lower()) for ext in file_types):\n",
        "                    continue\n",
        "\n",
        "            size = os.path.getsize(item_path)\n",
        "            size_mb = size / (1024 * 1024)\n",
        "            print(f\"📄 {item} ({size_mb:.2f} MB)\")\n",
        "            files_list.append(item_path)\n",
        "        else:\n",
        "            print(f\"📁 {item}/\")\n",
        "\n",
        "    if not files_list and file_types:\n",
        "        print(f\"💡 No {', '.join(file_types)} files found in this folder\")\n",
        "        print(f\"🔄 Place your files in: {directory}\")\n",
        "\n",
        "    return files_list\n",
        "\n",
        "def check_required_files(directory: str, required_extensions: List[str]):\n",
        "    \"\"\"Check if required file types exist in directory.\"\"\"\n",
        "    missing_types = []\n",
        "\n",
        "    for ext in required_extensions:\n",
        "        found = False\n",
        "        if os.path.exists(directory):\n",
        "            for file in os.listdir(directory):\n",
        "                if file.lower().endswith(ext.lower()):\n",
        "                    found = True\n",
        "                    break\n",
        "\n",
        "        if not found:\n",
        "            missing_types.append(ext)\n",
        "\n",
        "    return missing_types\n",
        "\n",
        "print(\"✅ Google Drive file management ready!\")\n",
        "print(\"\\n\udcc1 Your Google Drive folder structure:\")\n",
        "print(f\"📂 {BASE_AUTOMATION_PATH}/\")\n",
        "print(f\"   📂 TT/                    ← Place TimelessTales files here\")\n",
        "print(f\"   📂 Simple/                ← Place Simple video files here\")\n",
        "print(f\"   📂 Greece_Automation/     ← Place Social video files here\")\n",
        "print(f\"   📂 auto_channel/          ← Repository (auto-created)\")\n",
        "print(\"\\n\udcdd Available functions:\")\n",
        "print(\"• list_drive_files(TT_DIRECTORY, ['.jpg', '.png'])      # List images\")\n",
        "print(\"• list_drive_files(TT_DIRECTORY, ['.mp3', '.wav'])      # List audio\")\n",
        "print(\"• list_drive_files(SOCIAL_DIRECTORY, ['.mp4'])          # List videos\")\n",
        "print(\"• check_required_files(TT_DIRECTORY, ['.jpg', '.mp3'])  # Check required files\")"
      ]
    }
  ],
  "metadata": {
    "colab": {
      "include_colab_link": true,
      "provenance": []
    },
    "kernelspec": {
      "display_name": "Python 3",
      "name": "python3"
    },
    "language_info": {
      "name": "python"
    }
  },
  "nbformat": 4,
  "nbformat_minor": 5
}
